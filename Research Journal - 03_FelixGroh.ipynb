{
 "cells": [
  {
   "cell_type": "markdown",
   "metadata": {},
   "source": [
    "# Research Notebook\n",
    "## Felix Groh\n",
    "## Date: 17.02.2025 - 17.03.2025"
   ]
  },
  {
   "cell_type": "markdown",
   "metadata": {},
   "source": [
    "# 1: Experience\n",
    "## Describe at least one research activity you worked on this week. \n",
    "- Reworked convergence test. \n",
    "- Asymptotic behavior of the wavefunction $\\chi (x)$ is now computed using spherical Hankel-functions.\n",
    "- Confirmed numerical cross-sections by comparison to born limit, as well as recreating fig (4) from Ref [1].\n",
    "- Implemented interpolation over dimensionless cross-section $\\bar \\sigma_{\\rm in}$.\n",
    "- Implemented integral over dimensionless cross-sections, calculating $\\left< \\sigma_{\\rm in}^{(3)} \\right> $ and $\\left< \\sigma_{\\rm in}^{(5)} \\right> $."
   ]
  },
  {
   "cell_type": "markdown",
   "metadata": {},
   "source": [
    "<span style=\"color: red;\"> Missing the motivation section </span>"
   ]
  },
  {
   "cell_type": "markdown",
   "metadata": {},
   "source": [
    "# 2: What? (What happened?)\n",
    "## Recalculating the asymptotic behavior of the wave-function\n",
    "\n",
    "As was previously neglected, the Hankel-functions matching the asymptotic behavior of the wave-function are spherical Hankel-functions. \n",
    "They are related to normal Hankel-function by the following relation:\n",
    "\\begin{equation}\n",
    "    h_\\ell^{(1)} (z) \\coloneqq \\sqrt{\\frac{\\pi}{2z}} H_{\\ell + 1 / 2}^{(1)}(z), \\quad h_\\ell^{(2)} (z) \\coloneqq \\sqrt{\\frac{\\pi}{2z}} H_{\\ell + 1 / 2}^{(2)}(z)\n",
    "\\end{equation}\n",
    "With the recursive behavior from Ref. [5] eq. (10.1.22)\n",
    "\\begin{equation}\n",
    "    \\frac{\\ell}{z} h_\\ell^{(1, 2)} (z) + \\frac{d}{dz} h_\\ell^{(1, 2)} (z) = h_{\\ell + 1}^{(1, 2)} (z) \\longrightarrow \\frac{d}{dz} h_{\\ell}^{(1, 2)} (z) = \\frac{\\ell}{z} h_{\\ell}^{(1, 2)} (z) - h_{\\ell + 1}^{(1, 2)} (z),\n",
    "\\end{equation}\n",
    "the coefficients $c^{(1)}$ and $c^{(2)}$ follow:\n",
    "\n",
    "\\begin{align} \\begin{pmatrix}\n",
    "    C^{(1)} \\\\\n",
    "    C^{(2)}\n",
    "\\end{pmatrix} &= \\begin{pmatrix}\n",
    "x_m h_\\ell^{(1)}(kx_m) & x_m h_\\ell^{(2)}(kx_m) \\\\\n",
    "(h_\\ell^{(1)}(kx_m) + k x_m h_\\ell^{(1)'}(kx_m)) & (h_\\ell^{(2)}(kx_m) + k x_m h_\\ell^{(2)'}(kx_m))\n",
    "\\end{pmatrix}^{-1} \\begin{pmatrix}\n",
    "\\chi(x_m) \\\\\n",
    "\\chi'(x_m)\n",
    "\\end{pmatrix} \\\\\n",
    "&= \\begin{pmatrix}\n",
    "x_m h_\\ell^{(1)}(kx_m) & x_m h_\\ell^{(2)}(kx_m) \\\\\n",
    "(1 + \\ell) h_\\ell^{(1)}(kx_m) - k x_m h_{\\ell + 1}^{(1)}(kx_m) & (1 + \\ell) h_\\ell^{(2)}(kx_m) - k x_m h_{\\ell + 1}^{(2)}(kx_m)\n",
    "\\end{pmatrix}^{-1} \\begin{pmatrix}\n",
    "\\chi(x_m) \\\\\n",
    "\\chi'(x_m)\n",
    "\\end{pmatrix}\n",
    "\\end{align}\n",
    "\n",
    "## Comparison to analytical Born-limit\n",
    "To verify the numerical cross-section, it is useful to check against the perturbative regime and look at the Born-limit.\n",
    "\n",
    "The inelastic cross-section $\\sigma_{\\rm in}$ as well as the viscosity cross-section in the Born-limit can be expressed by simple analytic formulae (See Ref. [2] Appendix (C) eq. (9)(17)):\n",
    "\\begin{equation}\n",
    "    \\sigma_{\\rm in}^{\\rm born} = \\frac{\\epsilon_v}{\\epsilon_\\Delta} \\frac{4 \\pi}{\\epsilon_\\phi \\left(1 - \\epsilon_\\delta^2 / \\epsilon_\\phi^2 \\right)^2 + 4 \\epsilon_v^2 / \\epsilon_\\phi^2}, \\quad \\sigma_{\\rm vis}^{\\rm born} = \\frac{\\pi}{\\epsilon_\\phi^6} \\frac{1}{\\left( 1 + \\epsilon_\\delta^2 / \\epsilon_\\phi^2 \\right)}\n",
    "\\end{equation}\n",
    "The relation between the dimensionless parameters is as follows: $a = \\epsilon_v, \\, b = \\frac{1}{\\epsilon_\\phi}, \\, d = \\epsilon_\\delta, c^2 = \\epsilon_\\Delta^2 \\coloneqq a^2 - d^2$ \n",
    "With those equation a comparison with the numerical results can be easily achieved:\n",
    "\n",
    "![alt text](<figures/born-comparison.png>)\n",
    "\n",
    "As is demonstrated in the figure above, the agreement within the perturbative regime ($a \\lesssim 1$) is quite good, however it the solutions diverge beyond that.\n",
    "## Agreement with figures from Ref. [1]\n",
    "Further evidence of the verity of the numerical solution is yielded by a comparison with fig. (4) from Ref. [1]. As can be observed below, both numerical solutions agree:\n",
    "\n",
    "![alt text](<figures/fig 4.png>)\n"
   ]
  },
  {
   "cell_type": "markdown",
   "metadata": {},
   "source": [
    "<span style=\"color: red;\"> Nice results </span>"
   ]
  },
  {
   "cell_type": "markdown",
   "metadata": {},
   "source": [
    "# 3: So what? (What does it mean?)\n",
    "Good Agreement with both the Born-limit computations as well as fig. (4) from Ref. [1], suggest verity of the numerical solution. Thus it is likely that the remaining disagreements with the general analytical solutions for `L = 0` from Ref. [2] are caused by improper implementation.\n",
    "\n"
   ]
  },
  {
   "cell_type": "markdown",
   "metadata": {},
   "source": [
    "<span style=\"color: red;\"> Say more about how we can interpret the results. What are we looking at here. I see that they agree, but what exactly are we comparing.  </span>"
   ]
  },
  {
   "cell_type": "markdown",
   "metadata": {},
   "source": [
    "# 4. Now what? (What's next?)\n",
    "## Computing the dimensionful cross-sections and \n",
    "Assuming the numerical implementation thus far is impeccable, this allows us to move forward to take the numerical cross-section function, and compute dimensionless cross-sections on a grid where the axes are $a, b$ and $c$. Then we can create interpolations of the inelastic cross-section for fixed $b$ and $d$ in dependence of the parameter $a$. With the interpolated $\\bar \\sigma_{\\rm in}^{b, d}(a)$, we can the move to calculate the effective cross-sections for the simulation shells, where a relative velocity distribution has to be integrated over:\n",
    "\n",
    "\\begin{align}\n",
    "\\langle \\sigma_{\\rm in}^{(3)} \\rangle \n",
    "&= \\frac{1}{m_\\phi^2} \\int_d^\\infty da \\frac{2 \\beta^2 a^3}{1 + \\beta d^2} \\, \\bar{\\sigma}_{\\rm in}(a) \\exp\\left( - \\beta(a^2 - d^2) \\right) \\\\\n",
    "\\langle \\sigma_{\\rm in}^{(5)} \\rangle \n",
    "&= \\frac{1}{m_\\phi^2} \\int_d^\\infty da \\frac{2 \\beta^3 a^5}{2 + 2\\beta d^2 + \\beta^2 d^4} \\, \\bar{\\sigma}_{\\rm in}(a) \\exp\\left( - \\beta(a^2 - d^2) \\right) \n",
    "\\end{align}\n",
    "\n",
    "These effective cross-sections for velocity distributions can then be cast into the hydrodynamical simulation, where the development of small-scale structures under the assumed DM model can then be simulated."
   ]
  },
  {
   "cell_type": "markdown",
   "metadata": {},
   "source": [
    "# 5. Bibliography\n",
    "[1] Durand, L. (n.d.). InSIDious matter (S. Tulin, Supervisor). Department of Physics and Astronomy, York University, Canada.\n",
    "\n",
    "[2] Schutz, K., & Slatyer, T. R. (2015). Self-scattering for dark matter with an excited state. Journal of Cosmology and Astroparticle Physics, 2015(01), 021.\n",
    "\n",
    "[3] Tulin, S., Yu, H. B., & Zurek, K. M. (2013). Beyond collisionless dark matter: particle physics dynamics for dark matter halo structure. Physical Review D—Particles, Fields, Gravitation, and Cosmology, 87(11), 115007.\n",
    "\n",
    "[4] Blennow, M., Clementz, S., & Herrero-Garcia, J. (2017). Self-interacting inelastic dark matter: A viable solution to the small scale structure problems. Journal of Cosmology and Astroparticle Physics, 2017(03), 048.\n",
    "\n",
    "[5] Abramowitz, M., & Stegun, I. A. (Eds.). (1968). Handbook of mathematical functions with formulas, graphs, and mathematical tables (Vol. 55). US Government printing office.\n"
   ]
  },
  {
   "cell_type": "markdown",
   "metadata": {},
   "source": [
    "# 6. Appendix\n",
    "\n",
    "### 1. Determining the coefficients needed to compute the cross-sections\n",
    "In order to determine the coefficients we match the numerical solution to the Schrödinger equation to the asymptotic wavefunction. At large $x \\gg 0, x = x_m$ the solution converges, and the potential becomes ineffective:  \n",
    "\\begin{equation}\n",
    "\\chi(x) \\sim h_l^{(1)}(kx) C^{(1)} + h_l^{(2)}(kx) C^{(2)},\n",
    "\\end{equation}\n",
    "where $C^{(1)}$ and $C^{(2)}$ are $2 \\times 2$ matrices, containing the coefficients for the two state solution. The wavefunction as well as its derivatives can be written as: \n",
    "\\begin{align}\n",
    "\\chi(x_m) &= h_l^{(1)}(kx_m) C^{(1)} + h_l^{(2)}(kx_m) C^{(2)}, \\\\\n",
    "\\chi'(x_m) &= \\frac{d}{dx}\\left[h_l^{(1)}(kx) C^{(1)} + h_l^{(2)}(kx) C^{(2)}\\right]_{x=x_m}\n",
    "\\end{align}\n",
    "The derivatives of the Hankel functions are:\n",
    "\\begin{align}\n",
    "h_l^{(1)'}(kx) &= k \\left[\\frac{l}{kx}h_{l}^{(1)}(kx) - h_{l + 1}^{(1)}(kx)\\right], \\\\\n",
    "h_l^{(2)'}(kx) &= k \\left[\\frac{l}{kx}h_{l}^{(2)}(kx) - h_{l + 1}^{(2)}(kx)\\right]\n",
    "\\end{align}\n",
    "For $r = r_m$ this gives us two equations:\n",
    "\\begin{align}\n",
    "\\chi(x_m) &= x_m h_l^{(1)}(kx_m) C^{(1)} + x_m h_l^{(2)}(kx_m) C^{(2)} \\\\\n",
    "\\chi'(x_m) &= (h_l^{(1)}(kx_m) + k x_m h_l^{(1)'}(kx_m)) C^{(1)} + ( h_l^{(2)}(kx_m) + k x_m h_l^{(2)'}(kx_m)) C^{(2)}\n",
    "\\end{align}\n",
    "These can be rewritten as a linear system.\n",
    "\\begin{equation}\n",
    "\\begin{pmatrix}\n",
    "x_m h_l^{(1)}(kx_m) & x_m h_l^{(2)}(kx_m) \\\\\n",
    "(h_l^{(1)}(kx_m) + k x_m h_l^{(1)'}(kx_m)) & (h_l^{(2)}(kx_m) + k x_m h_l^{(2)'}(kx_m))\n",
    "\\end{pmatrix} \\cdot \\begin{pmatrix}\n",
    "    C^{(1)} \\\\\n",
    "    C^{(2)}\n",
    "\\end{pmatrix} = \\begin{pmatrix}\n",
    "\\chi(x_m) \\\\\n",
    "\\chi'(x_m)\n",
    "\\end{pmatrix}\n",
    "\\end{equation}\n",
    "Now we can solve for $c^{(1)}$ and $c^{(2)} $:\n",
    "\\begin{equation} \\begin{pmatrix}\n",
    "    C^{(1)} \\\\\n",
    "    C^{(2)}\n",
    "\\end{pmatrix} = \\begin{pmatrix}\n",
    "x_m h_l^{(1)}(kx_m) & x_m h_l^{(2)}(kx_m) \\\\\n",
    "(h_l^{(1)}(kx_m) + k x_m h_l^{(1)'}(kx_m)) & (h_l^{(2)}(kx_m) + k x_m h_l^{(2)'}(kx_m))\n",
    "\\end{pmatrix}^{-1} \\begin{pmatrix}\n",
    "\\chi(x_m) \\\\\n",
    "\\chi'(x_m)\n",
    "\\end{pmatrix}\n",
    "\\end{equation}"
   ]
  },
  {
   "cell_type": "markdown",
   "metadata": {},
   "source": [
    "| Category       | Points      |\n",
    "| ------------- |:------------:|\n",
    "| Formatting    |       2       |\n",
    "| Experience    |       1       |\n",
    "| What?         |       2       |\n",
    "| So what?      |       2       |\n",
    "| Now what?     |       4       |\n",
    "| Bibliography  |       3       |\n",
    "| Style         |       3       |\n",
    "| Total         |       17      |"
   ]
  },
  {
   "cell_type": "markdown",
   "metadata": {},
   "source": []
  }
 ],
 "metadata": {
  "kernelspec": {
   "display_name": "Python 3",
   "language": "python",
   "name": "python3"
  },
  "language_info": {
   "codemirror_mode": {
    "name": "ipython",
    "version": 3
   },
   "file_extension": ".py",
   "mimetype": "text/x-python",
   "name": "python",
   "nbconvert_exporter": "python",
   "pygments_lexer": "ipython3",
   "version": "3.13.2"
  }
 },
 "nbformat": 4,
 "nbformat_minor": 2
}
